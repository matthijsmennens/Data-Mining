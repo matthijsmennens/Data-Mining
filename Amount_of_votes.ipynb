{
 "cells": [
  {
   "cell_type": "code",
   "execution_count": 46,
   "metadata": {
    "collapsed": true
   },
   "outputs": [],
   "source": [
    "import os.path\n",
    "from IPython.display import FileLink, FileLinks\n",
    "from datetime import datetime\n",
    "import time\n",
    "import datetime\n",
    "import matplotlib.pyplot as plt\n",
    "import numpy as np\n",
    "import collections\n",
    "import operator\n",
    "FileLinks('.')\n",
    "\n",
    "input_path_movies = os.path.join('Movies', 'movies.dat')\n",
    "input_path_ratings = os.path.join('Movies', 'ratings.dat.gz')\n",
    "\n",
    "\n",
    "raw_data = sc.textFile(input_path_movies)\n",
    "raw_ratings = sc.textFile(input_path_ratings)\n",
    "\n",
    "header1 = raw_data.take(2)\n",
    "header2 = raw_ratings.take(2)\n",
    "\n",
    "#MovieID, Movie (Year), [Genre]\n",
    "data = raw_data.collect()\n",
    "#PersonID, MovieID, Rating, Timestamp\n",
    "ratings = raw_ratings.collect()\n"
   ]
  },
  {
   "cell_type": "code",
   "execution_count": 47,
   "metadata": {
    "collapsed": false
   },
   "outputs": [],
   "source": [
    "def get_year_list():\n",
    "    res = {}\n",
    "    year_list = list()   \n",
    "    \n",
    "    for timestamp in ratings:\n",
    "        vals = timestamp.split('::')\n",
    "        year = datetime.datetime.fromtimestamp(\n",
    "        int(vals[3])).strftime('%Y')\n",
    "        if res.has_key(year):\n",
    "            res[year] += 1\n",
    "        if not res.has_key(year):\n",
    "            res[year] = 1\n",
    "   \n",
    "    return res"
   ]
  },
  {
   "cell_type": "code",
   "execution_count": 48,
   "metadata": {
    "collapsed": false
   },
   "outputs": [],
   "source": [
    "def print_list(res):\n",
    "    keylist = res.keys()\n",
    "    keylist.sort()\n",
    "    for key in keylist:\n",
    "        print \"%s : %s\" % (key, res[key])"
   ]
  },
  {
   "cell_type": "code",
   "execution_count": 49,
   "metadata": {
    "collapsed": false
   },
   "outputs": [
    {
     "name": "stdout",
     "output_type": "stream",
     "text": [
      "2000 : 424406\n",
      "2001 : 47080\n",
      "2002 : 14894\n",
      "2003 : 1270\n"
     ]
    }
   ],
   "source": [
    "print_list(get_year_list())"
   ]
  },
  {
   "cell_type": "code",
   "execution_count": null,
   "metadata": {
    "collapsed": false
   },
   "outputs": [],
   "source": []
  },
  {
   "cell_type": "code",
   "execution_count": null,
   "metadata": {
    "collapsed": false
   },
   "outputs": [],
   "source": []
  },
  {
   "cell_type": "code",
   "execution_count": null,
   "metadata": {
    "collapsed": false
   },
   "outputs": [],
   "source": []
  },
  {
   "cell_type": "code",
   "execution_count": null,
   "metadata": {
    "collapsed": true
   },
   "outputs": [],
   "source": []
  }
 ],
 "metadata": {
  "kernelspec": {
   "display_name": "Python 2",
   "language": "python",
   "name": "python2"
  },
  "language_info": {
   "codemirror_mode": {
    "name": "ipython",
    "version": 2
   },
   "file_extension": ".py",
   "mimetype": "text/x-python",
   "name": "python",
   "nbconvert_exporter": "python",
   "pygments_lexer": "ipython2",
   "version": "2.7.6"
  }
 },
 "nbformat": 4,
 "nbformat_minor": 0
}
