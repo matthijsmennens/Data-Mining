{
 "cells": [
  {
   "cell_type": "code",
   "execution_count": 9,
   "metadata": {
    "collapsed": false
   },
   "outputs": [],
   "source": [
    "import os.path\n",
    "from IPython.display import FileLink, FileLinks\n",
    "from datetime import datetime\n",
    "import time\n",
    "FileLinks('.')\n",
    "\n",
    "input_path_movies = os.path.join('Movies', 'movies.dat')\n",
    "input_path_ratings = os.path.join('Movies', 'ratings.dat.gz')\n",
    "\n",
    "\n",
    "raw_data = sc.textFile(input_path_movies)\n",
    "raw_ratings = sc.textFile(input_path_ratings)\n",
    "\n",
    "header1 = raw_data.take(2)\n",
    "header2 = raw_ratings.take(2)\n",
    "\n",
    "#MovieID, Movie (Year), [Genre]\n",
    "data = raw_data.collect()\n",
    "#PersonID, MovieID, Rating, Timestamp\n",
    "ratings = raw_ratings.collect()"
   ]
  },
  {
   "cell_type": "code",
   "execution_count": 10,
   "metadata": {
    "collapsed": false
   },
   "outputs": [],
   "source": [
    "def avg_rating_movie(movie_index):\n",
    "    movie_id = movie_index\n",
    "    i = 0\n",
    "    sum = 0\n",
    "    for movie in ratings:\n",
    "        vals = movie.split('::')\n",
    "        if vals[1] == movie_id:\n",
    "            i += 1\n",
    "            sum += float(vals[2])\n",
    "    return round(float(sum/i),2)"
   ]
  },
  {
   "cell_type": "code",
   "execution_count": 11,
   "metadata": {
    "collapsed": false
   },
   "outputs": [],
   "source": [
    "def get_actual_movie_name(movie_id):\n",
    "    movie_name = get_movie_name(movie_id)\n",
    "    comma = ','\n",
    "    if comma in movie_name:\n",
    "        movie_name = movie_name.split(',')\n",
    "        date = movie_name[1][-6:]\n",
    "        movie = movie_name[1][:-6] + movie_name[0] + \" \" + date\n",
    "    else:\n",
    "        movie = \" \" + movie_name\n",
    "    return movie"
   ]
  },
  {
   "cell_type": "code",
   "execution_count": 12,
   "metadata": {
    "collapsed": true
   },
   "outputs": [],
   "source": [
    "def get_movie_index(movie_name):\n",
    "    for movie in data:\n",
    "        vals = movie.split('::')\n",
    "        if vals[1].startswith(movie_name):\n",
    "            return vals[0]\n",
    "            break       "
   ]
  },
  {
   "cell_type": "code",
   "execution_count": 13,
   "metadata": {
    "collapsed": true
   },
   "outputs": [],
   "source": [
    "def get_movie_name(movie_index):\n",
    "    for movie in data:\n",
    "        vals = movie.split('::')\n",
    "        if vals[0] == movie_index:\n",
    "            return vals[1]  "
   ]
  },
  {
   "cell_type": "code",
   "execution_count": 14,
   "metadata": {
    "collapsed": false
   },
   "outputs": [],
   "source": [
    "import datetime\n",
    "import matplotlib.pyplot as plt\n",
    "import numpy as np\n",
    "import collections\n",
    "\n",
    "def convert_timestamps(movie_id):\n",
    "    year_list = list()\n",
    "    for timestamp in ratings:\n",
    "        vals = timestamp.split('::')\n",
    "        if vals[1] == movie_id:\n",
    "            if not datetime.datetime.fromtimestamp(\n",
    "            int(vals[3])).strftime('%Y') in year_list:\n",
    "                year_list.append(datetime.datetime.fromtimestamp(\n",
    "                int(vals[3])).strftime('%Y'))\n",
    "    year_list.sort()\n",
    "    return year_list\n",
    "\n",
    "\n",
    "def avg_rating_per_year(movie_name, year_list):\n",
    "    movie_index = get_movie_index(movie_name)\n",
    "    \n",
    "    res = {}\n",
    "    i = 0\n",
    "    sum = 0\n",
    " \n",
    "    for year in year_list:\n",
    "        for movie in ratings:\n",
    "            vals = movie.split('::')\n",
    "            if vals[1] == movie_index:\n",
    "                if datetime.datetime.fromtimestamp(\n",
    "                int(vals[3])).strftime('%Y') == year: \n",
    "                    i += 1\n",
    "                    sum +=  float(vals[2])\n",
    "                    res[year] = float(round((sum/i), 2))\n",
    "        i = 0\n",
    "        sum = 0\n",
    "\n",
    "    od = collections.OrderedDict(sorted(res.items()))\n",
    "    plt.bar(range(len(od)), od.values(), align=\"center\", color = \"g\", width = 0.3)\n",
    "    plt.xticks(range(len(od)), list(od.keys()))\n",
    "    plt.yticks(range(6))\n",
    "    plt.xlabel('Year', fontsize=11, fontweight='bold')\n",
    "    plt.ylabel('Rating', fontsize=11, fontweight='bold')\n",
    "    plt.suptitle('Average rating per year for' + str(get_actual_movie_name(movie_index)), fontsize=14, fontweight='bold')\n",
    "    plt.show()\n",
    "  \n",
    "\n",
    "movie_title = var_film"
   ]
  },
  {
   "cell_type": "code",
   "execution_count": 15,
   "metadata": {
    "collapsed": false,
    "scrolled": true
   },
   "outputs": [
    {
     "data": {
      "text/html": [
       "\n",
       "<div style=\"background-color:white; border: 1px solid black; width:300px; padding:20px;\">\n",
       "Film: <input type=\"text\" id=\"film\"><br>\n",
       "<button onclick=\"set_value()\" style=\"margin-top:20px\" align=\"center\">Geef gemiddelde rating</button>\n",
       "</div>\n",
       "\n",
       "<script type=\"text/Javascript\">\n",
       "    function set_value(){\n",
       "        var var_film = document.getElementById('film').value;\n",
       "        var kernel = IPython.notebook.kernel;\n",
       "        kernel.execute(\"var_film = '\" + var_film + \"'\");\n",
       "        IPython.notebook.execute_all_cells();\n",
       "    }\n",
       "</script>\n"
      ],
      "text/plain": [
       "<IPython.core.display.HTML object>"
      ]
     },
     "execution_count": 15,
     "metadata": {},
     "output_type": "execute_result"
    }
   ],
   "source": [
    "from IPython.display import HTML        \n",
    "        \n",
    "input_form = \"\"\"\n",
    "<div style=\"background-color:white; border: 1px solid black; width:300px; padding:20px;\">\n",
    "Film: <input type=\"text\" id=\"film\"><br>\n",
    "<button onclick=\"set_value()\" style=\"margin-top:20px\" align=\"center\">Geef gemiddelde rating</button>\n",
    "</div>\n",
    "\"\"\"\n",
    "\n",
    "javascript = \"\"\"\n",
    "<script type=\"text/Javascript\">\n",
    "    function set_value(){\n",
    "        var var_film = document.getElementById('film').value;\n",
    "        var kernel = IPython.notebook.kernel;\n",
    "        kernel.execute(\"var_film = '\" + var_film + \"'\");\n",
    "        IPython.notebook.execute_all_cells();\n",
    "    }\n",
    "</script>\n",
    "\"\"\"\n",
    "\n",
    "HTML(input_form + javascript)"
   ]
  },
  {
   "cell_type": "code",
   "execution_count": 16,
   "metadata": {
    "collapsed": false
   },
   "outputs": [
    {
     "data": {
      "image/png": "[encoded data removed]",
      "text/plain": [
       "<matplotlib.figure.Figure at 0xac167aec>"
      ]
     },
     "metadata": {},
     "output_type": "display_data"
    }
   ],
   "source": [
    "avg_rating_per_year(movie_title, convert_timestamps(get_movie_index(movie_title)))"
   ]
  },
  {
   "cell_type": "code",
   "execution_count": null,
   "metadata": {
    "collapsed": true
   },
   "outputs": [],
   "source": []
  },
  {
   "cell_type": "code",
   "execution_count": null,
   "metadata": {
    "collapsed": false
   },
   "outputs": [],
   "source": []
  },
  {
   "cell_type": "code",
   "execution_count": null,
   "metadata": {
    "collapsed": false,
    "scrolled": true
   },
   "outputs": [],
   "source": [
    "\n"
   ]
  },
  {
   "cell_type": "code",
   "execution_count": null,
   "metadata": {
    "collapsed": false
   },
   "outputs": [],
   "source": []
  },
  {
   "cell_type": "code",
   "execution_count": null,
   "metadata": {
    "collapsed": true
   },
   "outputs": [],
   "source": []
  },
  {
   "cell_type": "code",
   "execution_count": null,
   "metadata": {
    "collapsed": true
   },
   "outputs": [],
   "source": []
  }
 ],
 "metadata": {
  "kernelspec": {
   "display_name": "Python 2",
   "language": "python",
   "name": "python2"
  },
  "language_info": {
   "codemirror_mode": {
    "name": "ipython",
    "version": 2
   },
   "file_extension": ".py",
   "mimetype": "text/x-python",
   "name": "python",
   "nbconvert_exporter": "python",
   "pygments_lexer": "ipython2",
   "version": "2.7.6"
  }
 },
 "nbformat": 4,
 "nbformat_minor": 0
}
